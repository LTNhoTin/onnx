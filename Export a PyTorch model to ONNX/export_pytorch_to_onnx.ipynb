{
 "cells": [
  {
   "cell_type": "markdown",
   "id": "903f4c79",
   "metadata": {},
   "source": [
    "# Export PyTorch Model to ONNX\n",
    "### Mục tiêu\n",
    "- Chạy mô hình PyTorch và xuất sang ONNX \n",
    "- Kiểm tra tính hợp lệ của mô hình ONNX\n",
    "- Chạy inference với ONNX Runtime\n",
    "- So sánh kết quả với PyTorch\n",
    "\n",
    "### Bước 1: Cài đặt môi trường"
   ]
  },
  {
   "cell_type": "code",
   "execution_count": 15,
   "id": "b3bf390e",
   "metadata": {},
   "outputs": [
    {
     "name": "stdout",
     "output_type": "stream",
     "text": [
      "Requirement already satisfied: torch in /opt/anaconda3/envs/env_onnx/lib/python3.10/site-packages (2.6.0)\n",
      "Requirement already satisfied: torchvision in /opt/anaconda3/envs/env_onnx/lib/python3.10/site-packages (0.21.0)\n",
      "Requirement already satisfied: torchaudio in /opt/anaconda3/envs/env_onnx/lib/python3.10/site-packages (2.6.0)\n",
      "Requirement already satisfied: onnx in /opt/anaconda3/envs/env_onnx/lib/python3.10/site-packages (1.17.0)\n",
      "Requirement already satisfied: onnxscript in /opt/anaconda3/envs/env_onnx/lib/python3.10/site-packages (0.2.1)\n",
      "Requirement already satisfied: onnxruntime in /opt/anaconda3/envs/env_onnx/lib/python3.10/site-packages (1.20.1)\n",
      "Requirement already satisfied: filelock in /opt/anaconda3/envs/env_onnx/lib/python3.10/site-packages (from torch) (3.17.0)\n",
      "Requirement already satisfied: typing-extensions>=4.10.0 in /opt/anaconda3/envs/env_onnx/lib/python3.10/site-packages (from torch) (4.12.2)\n",
      "Requirement already satisfied: networkx in /opt/anaconda3/envs/env_onnx/lib/python3.10/site-packages (from torch) (3.4.2)\n",
      "Requirement already satisfied: jinja2 in /opt/anaconda3/envs/env_onnx/lib/python3.10/site-packages (from torch) (3.1.5)\n",
      "Requirement already satisfied: fsspec in /opt/anaconda3/envs/env_onnx/lib/python3.10/site-packages (from torch) (2025.2.0)\n",
      "Requirement already satisfied: sympy==1.13.1 in /opt/anaconda3/envs/env_onnx/lib/python3.10/site-packages (from torch) (1.13.1)\n",
      "Requirement already satisfied: mpmath<1.4,>=1.1.0 in /opt/anaconda3/envs/env_onnx/lib/python3.10/site-packages (from sympy==1.13.1->torch) (1.3.0)\n",
      "Requirement already satisfied: numpy in /opt/anaconda3/envs/env_onnx/lib/python3.10/site-packages (from torchvision) (2.2.3)\n",
      "Requirement already satisfied: pillow!=8.3.*,>=5.3.0 in /opt/anaconda3/envs/env_onnx/lib/python3.10/site-packages (from torchvision) (11.1.0)\n",
      "Requirement already satisfied: protobuf>=3.20.2 in /opt/anaconda3/envs/env_onnx/lib/python3.10/site-packages (from onnx) (5.29.3)\n",
      "Requirement already satisfied: ml_dtypes in /opt/anaconda3/envs/env_onnx/lib/python3.10/site-packages (from onnxscript) (0.5.1)\n",
      "Requirement already satisfied: packaging in /opt/anaconda3/envs/env_onnx/lib/python3.10/site-packages (from onnxscript) (24.2)\n",
      "Requirement already satisfied: coloredlogs in /opt/anaconda3/envs/env_onnx/lib/python3.10/site-packages (from onnxruntime) (15.0.1)\n",
      "Requirement already satisfied: flatbuffers in /opt/anaconda3/envs/env_onnx/lib/python3.10/site-packages (from onnxruntime) (25.2.10)\n",
      "Requirement already satisfied: humanfriendly>=9.1 in /opt/anaconda3/envs/env_onnx/lib/python3.10/site-packages (from coloredlogs->onnxruntime) (10.0)\n",
      "Requirement already satisfied: MarkupSafe>=2.0 in /opt/anaconda3/envs/env_onnx/lib/python3.10/site-packages (from jinja2->torch) (3.0.2)\n"
     ]
    }
   ],
   "source": [
    "!pip install torch torchvision torchaudio onnx onnxscript onnxruntime"
   ]
  },
  {
   "cell_type": "markdown",
   "id": "c49e587a",
   "metadata": {},
   "source": [
    "### Bước 2: Kiểm tra phiên bản"
   ]
  },
  {
   "cell_type": "code",
   "execution_count": 16,
   "id": "a45e09aa",
   "metadata": {},
   "outputs": [
    {
     "name": "stdout",
     "output_type": "stream",
     "text": [
      "PyTorch Version: 2.6.0\n",
      "ONNX Version: 1.17.0\n",
      "ONNX Runtime Version: 1.20.1\n"
     ]
    }
   ],
   "source": [
    "import torch\n",
    "import onnx\n",
    "import onnxruntime\n",
    "print(f'PyTorch Version: {torch.__version__}')\n",
    "print(f'ONNX Version: {onnx.__version__}')\n",
    "print(f'ONNX Runtime Version: {onnxruntime.__version__}')"
   ]
  },
  {
   "cell_type": "markdown",
   "id": "27cf7099",
   "metadata": {},
   "source": [
    "### Bước 3: Định nghĩa mô hình PyTorch"
   ]
  },
  {
   "cell_type": "code",
   "execution_count": 17,
   "id": "3864f9ea",
   "metadata": {},
   "outputs": [
    {
     "name": "stdout",
     "output_type": "stream",
     "text": [
      "Mô hình đã được khởi tạo!\n"
     ]
    }
   ],
   "source": [
    "import torch\n",
    "import torch.nn as nn\n",
    "import torch.nn.functional as F\n",
    "\n",
    "class MyModel(nn.Module):\n",
    "    def __init__(self):\n",
    "        super(MyModel, self).__init__()\n",
    "        self.conv1 = nn.Conv2d(1, 6, 5)\n",
    "        self.conv2 = nn.Conv2d(6, 16, 5)\n",
    "        self.fc1 = nn.Linear(16 * 5 * 5, 120)\n",
    "        self.fc2 = nn.Linear(120, 84)\n",
    "        self.fc3 = nn.Linear(84, 10)\n",
    "\n",
    "    def forward(self, x):\n",
    "        x = F.max_pool2d(F.relu(self.conv1(x)), (2, 2))\n",
    "        x = F.max_pool2d(F.relu(self.conv2(x)), 2)\n",
    "        x = torch.flatten(x, 1)\n",
    "        x = F.relu(self.fc1(x))\n",
    "        x = F.relu(self.fc2(x))\n",
    "        x = self.fc3(x)\n",
    "        return x\n",
    "\n",
    "# Khởi tạo mô hình\n",
    "torch_model = MyModel()\n",
    "print('Mô hình đã được khởi tạo!')"
   ]
  },
  {
   "cell_type": "markdown",
   "id": "0e0fa502",
   "metadata": {},
   "source": [
    "### Bước 4: Xuất mô hình sang ONNX"
   ]
  },
  {
   "cell_type": "code",
   "execution_count": 18,
   "id": "73649fb1",
   "metadata": {},
   "outputs": [
    {
     "name": "stderr",
     "output_type": "stream",
     "text": [
      "/opt/anaconda3/envs/env_onnx/lib/python3.10/site-packages/torch/onnx/_internal/_exporter_legacy.py:101: UserWarning: torch.onnx.dynamo_export only implements opset version 18 for now. If you need to use a different opset version, please register them with register_custom_op.\n",
      "  warnings.warn(\n"
     ]
    },
    {
     "name": "stdout",
     "output_type": "stream",
     "text": [
      "Mô hình đã xuất thành công sang ONNX!\n"
     ]
    }
   ],
   "source": [
    "torch_input = torch.randn(1, 1, 32, 32)\n",
    "onnx_program = torch.onnx.dynamo_export(torch_model, torch_input)\n",
    "onnx_program.save('my_image_classifier.onnx')\n",
    "print('Mô hình đã xuất thành công sang ONNX!')"
   ]
  },
  {
   "cell_type": "markdown",
   "id": "3bbe3a8f",
   "metadata": {},
   "source": [
    "### Bước 5: Kiểm tra tính hợp lệ của mô hình ONNX"
   ]
  },
  {
   "cell_type": "code",
   "execution_count": 19,
   "id": "ffe1f596",
   "metadata": {},
   "outputs": [
    {
     "name": "stdout",
     "output_type": "stream",
     "text": [
      "Mô hình ONNX hợp lệ!\n"
     ]
    }
   ],
   "source": [
    "onnx_model = onnx.load('my_image_classifier.onnx')\n",
    "onnx.checker.check_model(onnx_model)\n",
    "print('Mô hình ONNX hợp lệ!')"
   ]
  },
  {
   "cell_type": "markdown",
   "id": "7b3a86b3",
   "metadata": {},
   "source": [
    "### Bước 6: Chạy inference với ONNX Runtime"
   ]
  },
  {
   "cell_type": "code",
   "execution_count": 20,
   "id": "003e5722",
   "metadata": {},
   "outputs": [
    {
     "name": "stdout",
     "output_type": "stream",
     "text": [
      "Dự đoán từ ONNX Runtime: [[-0.04551338 -0.01886104 -0.07032115 -0.08774921  0.09030626 -0.01017094\n",
      "  -0.11590829  0.03748711  0.06311531  0.09808487]]\n"
     ]
    }
   ],
   "source": [
    "ort_session = onnxruntime.InferenceSession('my_image_classifier.onnx', providers=['CPUExecutionProvider'])\n",
    "\n",
    "def to_numpy(tensor):\n",
    "    return tensor.detach().cpu().numpy() if tensor.requires_grad else tensor.cpu().numpy()\n",
    "\n",
    "onnxruntime_input = {k.name: to_numpy(v) for k, v in zip(ort_session.get_inputs(), [torch_input])}\n",
    "onnxruntime_outputs = ort_session.run(None, onnxruntime_input)[0]\n",
    "print('Dự đoán từ ONNX Runtime:', onnxruntime_outputs)"
   ]
  },
  {
   "cell_type": "markdown",
   "id": "5753b467",
   "metadata": {},
   "source": [
    "### Bước 7: So sánh kết quả giữa PyTorch và ONNX"
   ]
  },
  {
   "cell_type": "code",
   "execution_count": 21,
   "id": "482e9d3a",
   "metadata": {},
   "outputs": [
    {
     "name": "stdout",
     "output_type": "stream",
     "text": [
      "Kết quả của PyTorch và ONNX Runtime khớp nhau!\n"
     ]
    }
   ],
   "source": [
    "torch_outputs = torch_model(torch_input)\n",
    "assert len(torch_outputs) == len(onnxruntime_outputs)\n",
    "for torch_output, onnxruntime_output in zip(torch_outputs, onnxruntime_outputs):\n",
    "    torch.testing.assert_close(torch_output, torch.tensor(onnxruntime_output))\n",
    "print('Kết quả của PyTorch và ONNX Runtime khớp nhau!')"
   ]
  },
  {
   "cell_type": "markdown",
   "id": "9aa7ff1e",
   "metadata": {},
   "source": [
    "## Kết luận\n",
    "- Mô hình xuất sang ONNX thành công\n",
    "- Chạy inference trên ONNX Runtime thành công\n",
    "- Kết quả khớp giữa PyTorch và ONNX"
   ]
  }
 ],
 "metadata": {
  "kernelspec": {
   "display_name": "env_onnx",
   "language": "python",
   "name": "python3"
  },
  "language_info": {
   "codemirror_mode": {
    "name": "ipython",
    "version": 3
   },
   "file_extension": ".py",
   "mimetype": "text/x-python",
   "name": "python",
   "nbconvert_exporter": "python",
   "pygments_lexer": "ipython3",
   "version": "3.10.16"
  }
 },
 "nbformat": 4,
 "nbformat_minor": 5
}
